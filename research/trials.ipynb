{
 "cells": [
  {
   "cell_type": "code",
   "execution_count": null,
   "id": "cc1b3b63",
   "metadata": {},
   "outputs": [],
   "source": [
    "def generate_batch_sized_chunks(list_of_elements, batch_size):\n",
    "  \n",
    "  for i in range(0, len(list_of_elements), batch_size):\n",
    "    yield list_of_elements[i : i + batch_size]\n",
    "\n",
    "\n",
    "def calculate_metric_on_test_ds(dataset, metric, model, tokenizer,\n",
    "                                batch_size=16, device=device,\n",
    "                                column_text='article',\n",
    "                                column_summary='highlights'):\n",
    "  article_batches = list(generate_batch_sized_chunks(dataset[column_text],batch_size))\n",
    "  target_batches = list(generate_batch_sized_chunks(dataset[column_summary],batch_size))\n",
    "\n",
    "  for article_batch, target_batch in tqdm(\n",
    "      zip(article_batches, target_batches), total=len(article_batches)):\n",
    "\n",
    "      inputs = tokenizer(article_batch, max_length=1024, truncation=True,\n",
    "                         padding=\"max_length\", return_tensors=\"pt\")\n",
    "      \n",
    "      summaries = model.generate(input_ids=inputs[\"input_ids\"].to(device),\n",
    "                        attention_mask=inputs[\"attention_mask\"].to(device),\n",
    "                        length_penalty=0.8, num_beams = 8, max_length=128)\n",
    "      \n",
    "      decoded_summaries = [tokenizer.decode(s,skip_special_tokens=True,\n",
    "                                            clean_up_tokenization_spaces=True)\n",
    "              for s in summaries]\n",
    "       \n",
    "      decoded_summaries = [d.replace(\"\",\" \") for d in decoded_summaries]\n",
    "\n",
    "  \n",
    "  \n",
    "      metric.add_batch(predictions=decoded_summaries, references=target_batch)\n",
    "\n",
    "      score = metric.compute()\n",
    "      return score\n",
    "  \n",
    "  \n",
    "      \n",
    "\n",
    "      \n",
    "      \n",
    "  \n"
   ]
  },
  {
   "cell_type": "code",
   "execution_count": null,
   "id": "f8011c3f",
   "metadata": {},
   "outputs": [],
   "source": [
    "score = calculate_metric_on_test_ds(\n",
    "    dataset_samsum['test'][0:10],rouge_metric,trainer.model,tokenizer,batch_size=2, device=device, column_text='dialogue', column_summary='summary'\n",
    ")"
   ]
  }
 ],
 "metadata": {
  "kernelspec": {
   "display_name": "textsummarization",
   "language": "python",
   "name": "python3"
  },
  "language_info": {
   "name": "python",
   "version": "3.10.11"
  }
 },
 "nbformat": 4,
 "nbformat_minor": 5
}
